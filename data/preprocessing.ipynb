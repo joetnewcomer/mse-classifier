{
 "cells": [
  {
   "cell_type": "code",
   "execution_count": 7,
   "id": "157f478c-acc2-4ada-aa18-6d97b926ac91",
   "metadata": {},
   "outputs": [],
   "source": [
    "# Imports\n",
    "import pandas as pd\n",
    "import re\n",
    "import os\n",
    "from pylatexenc.latexwalker import LatexWalker, LatexEnvironmentNode, LatexMacroNode, LatexCharsNode, LatexGroupNode, LatexMathNode"
   ]
  },
  {
   "cell_type": "markdown",
   "id": "ad309807-5d95-478e-858d-bca0083a11d3",
   "metadata": {},
   "source": [
    "## Helper Functions"
   ]
  },
  {
   "cell_type": "code",
   "execution_count": 8,
   "id": "f6b42b42-7dd3-479b-b2d8-9fefc0c53583",
   "metadata": {},
   "outputs": [],
   "source": [
    "def parse_title(title_str):\n",
    "    '''\n",
    "    Separates title into text portions and LaTeX portions.\n",
    "\n",
    "    Parameters:\n",
    "    title_str (str): The raw title.\n",
    "\n",
    "    Returns:\n",
    "    text_content (str): The text portion of the title.\n",
    "    latex_content (str): The LaTeX portion of the title. \n",
    "    '''\n",
    "    latex_parts = re.findall(r'\\$(.*?)\\$', title_str)\n",
    "    text_content = re.sub(r'\\$.*?\\$', '<LATEX>', title_str).strip()\n",
    "    latex_content = ' '.join(latex_parts)\n",
    "    return text_content, latex_content"
   ]
  },
  {
   "cell_type": "code",
   "execution_count": 9,
   "id": "095db890-6f5c-4cb8-910d-e3eb863755dd",
   "metadata": {},
   "outputs": [],
   "source": [
    "def parse_body(body_str):\n",
    "    '''\n",
    "    Separates body into text portions and LaTeX portions. Takes into account more sophisiticated LaTeX than just \"$\" delimiters.\n",
    "\n",
    "    Parameters:\n",
    "    body_str (str): The body text of a question.\n",
    "\n",
    "    Returns:\n",
    "    text_content (str): The text portion of the body.\n",
    "    latex_content (str): The LaTeX portion of the body. \n",
    "    '''\n",
    "    # Define regex patterns\n",
    "    dollar_pattern = r'\\$.*?\\$'\n",
    "    double_dollar_pattern = r'\\$\\$.*?\\$\\$'\n",
    "    begin_end_pattern = r'\\\\begin\\{.*?\\}.*?\\\\end\\{.*?\\}'\n",
    "\n",
    "    # Combine the patterns to find the largest possible matches\n",
    "    combined_pattern = re.compile(f'({double_dollar_pattern}|{begin_end_pattern}|{dollar_pattern})', re.DOTALL)\n",
    "\n",
    "    # Find all matches in the input string\n",
    "    matches = combined_pattern.findall(body_str)\n",
    "\n",
    "    # Remove LaTeX from body\n",
    "    body_text = combined_pattern.sub('<LATEX>', body_str)\n",
    "\n",
    "    # Combine LaTeX matches into a single string and remove dollar signs\n",
    "    body_latex = ' '.join(matches)\n",
    "    body_latex = re.sub(r'\\$\\$', '', body_latex)  # Remove double dollar signs\n",
    "    body_latex = re.sub(r'\\$', '', body_latex)    # Remove single dollar signs\n",
    "\n",
    "    return body_text, body_latex"
   ]
  },
  {
   "cell_type": "code",
   "execution_count": 10,
   "id": "b167e18e-4813-4650-b8f6-8e4b9ae4ee0b",
   "metadata": {},
   "outputs": [],
   "source": [
    "def remove_newlines(latex_str):\n",
    "    '''\n",
    "    Removes any newlines from LaTeX strings.\n",
    "\n",
    "    Parameters:\n",
    "    latex_str (str): A string containing LaTeX.\n",
    "\n",
    "    Returns:\n",
    "    cleaned_str (str): The cleaned LaTeX without newline characters.\n",
    "    '''\n",
    "    cleaned_str = re.sub(r'(?<!\\\\)\\n', ' ', latex_str).strip()\n",
    "    return cleaned_str"
   ]
  },
  {
   "cell_type": "markdown",
   "id": "fa12744e-bd6d-483d-a76c-addd4464334e",
   "metadata": {},
   "source": [
    "## Main Code"
   ]
  },
  {
   "cell_type": "markdown",
   "id": "f76d988c-69c9-46f9-b826-d360177b687e",
   "metadata": {},
   "source": [
    "The purpose of this notebook is to separate text and LaTeX within the title and body. This is so that, later on down the line, I can treat these in separate ways (i.e. when training word embeddings or performing vectorization)."
   ]
  },
  {
   "cell_type": "code",
   "execution_count": 11,
   "id": "9a221963-59f1-4154-81d9-2a024a520f5b",
   "metadata": {},
   "outputs": [],
   "source": [
    "# Read in all data and combine into a single dataframe\n",
    "raw_data_df = pd.DataFrame()\n",
    "all_files = os.listdir('raw_data')\n",
    "for file_name in all_files:\n",
    "    curr_data_df = pd.read_csv(f'raw_data/{file_name}')\n",
    "    raw_data_df = pd.concat([raw_data_df, curr_data_df], ignore_index=True)"
   ]
  },
  {
   "cell_type": "code",
   "execution_count": 12,
   "id": "90c8eacd-b3a6-48ec-9bcd-04aeb7556bca",
   "metadata": {},
   "outputs": [],
   "source": [
    "# Separate text from LaTeX in both title and body\n",
    "title_separated_df = pd.DataFrame(raw_data_df['title'].apply(parse_title).tolist(), index=raw_data_df.index).rename(\n",
    "    {0:'title_text', 1:'title_latex'}, axis=1)\n",
    "body_separated_df = pd.DataFrame(raw_data_df['body'].apply(parse_body).tolist(), index=raw_data_df.index).rename(\n",
    "    {0:'body_text', 1:'body_latex'}, axis=1)"
   ]
  },
  {
   "cell_type": "code",
   "execution_count": 13,
   "id": "66870bf8-94e0-4a23-a4f0-40b1749f1969",
   "metadata": {},
   "outputs": [],
   "source": [
    "# Add parsed data to dataframe\n",
    "parsed_data_df = raw_data_df.join(title_separated_df).join(body_separated_df).drop_duplicates()"
   ]
  },
  {
   "cell_type": "code",
   "execution_count": 14,
   "id": "f443cd3c-a9ed-40ca-a071-eab8a46cb6ad",
   "metadata": {},
   "outputs": [],
   "source": [
    "# Save parsed data as csv for exploratory analysis later\n",
    "parsed_data_df.to_csv('parsed_data.csv', index=False)"
   ]
  }
 ],
 "metadata": {
  "kernelspec": {
   "display_name": "Python 3 (ipykernel)",
   "language": "python",
   "name": "python3"
  },
  "language_info": {
   "codemirror_mode": {
    "name": "ipython",
    "version": 3
   },
   "file_extension": ".py",
   "mimetype": "text/x-python",
   "name": "python",
   "nbconvert_exporter": "python",
   "pygments_lexer": "ipython3",
   "version": "3.11.9"
  }
 },
 "nbformat": 4,
 "nbformat_minor": 5
}
